{
 "cells": [
  {
   "cell_type": "markdown",
   "metadata": {},
   "source": [
    "### Submission Instructions:\n",
    "1. **Restart the kernel** (in the menubar, select Runtime$\\rightarrow$Restart runtime)\n",
    "2. **Run all cells** (in the menubar, select Runtime$\\rightarrow$Run All).\n",
    "3. **Download the notebook** (in the menubar, select File$\\rightarrow$Download .ipynb)\n",
    "4. **Add the downloaded notebook (.ipynb file) to the submission zip**.\n",
    "\n",
    "Make sure you fill in any place that says `YOUR CODE HERE` or \"**WRITE YOUR ANSWER IN THIS CELL**\", and that no tests fail.  \n",
    "Write the IDs of all group members in the cell below. Leave any surplus IDs as `\"\"`."
   ]
  },
  {
   "cell_type": "markdown",
   "metadata": {},
   "source": [
    "ID1 = \"301687901\"\n",
    "ID2 = \"305640393\"\n"
   ]
  },
  {
   "cell_type": "markdown",
   "metadata": {},
   "source": [
    "---"
   ]
  },
  {
   "cell_type": "markdown",
   "metadata": {
    "deletable": false,
    "editable": false,
    "nbgrader": {
     "cell_type": "markdown",
     "checksum": "5493400e8b7f9a8e2cde874866d4fa7f",
     "grade": false,
     "grade_id": "cell-3a1bca1dbb7d0069",
     "locked": true,
     "schema_version": 3,
     "solution": false,
     "task": false
    }
   },
   "source": [
    "![shakespeare](https://i.imgur.com/81YZuel.jpg)\n",
    "\n",
    "# Generating Shakespeare Using a Character-level Language Model\n",
    "\n",
    "### From Words to Characters\n",
    "In the previous two sections we dealt with word-level language models. But looking again at section 2, there is nothing that constraints us to using _words_ as the basic elemnents in our model. The model we analyzed in section 2 could just as well be character-based - just replace \"word\" with \"character\", and you are good to go. In this notebook we will train a small character-based language model that will help us generate Shakespearean-like (emphasis on the _like_...) texts."
   ]
  },
  {
   "cell_type": "markdown",
   "metadata": {
    "deletable": false,
    "editable": false,
    "nbgrader": {
     "cell_type": "markdown",
     "checksum": "9af7a343d0e3524c3fd846d987d766a8",
     "grade": false,
     "grade_id": "cell-7301754e4d655d01",
     "locked": true,
     "schema_version": 3,
     "solution": false,
     "task": false
    }
   },
   "source": [
    "### Question 3.a\n",
    "Can you think of an advantage a character-based language model could have over a word-based language model? _(You might find question 2.c useful)_. And what about the other way around: can you think of an advantage a word-based language model could have over a character-based language model?"
   ]
  },
  {
   "cell_type": "markdown",
   "metadata": {
    "deletable": false,
    "nbgrader": {
     "cell_type": "markdown",
     "checksum": "eb742db028fffc9c69d14202fc1e24bd",
     "grade": true,
     "grade_id": "cell-e19646c939692ee9",
     "locked": false,
     "points": 4,
     "schema_version": 3,
     "solution": true,
     "task": false
    }
   },
   "source": [
    "**WRITE YOUR ANSWER IN THIS CELL**\n",
    "From question 2.c. we can see that the operations we need to perform in both forward and backward dependent on |V|, which can be pretty big in Word-based model. However, in Character-based model |V| is limitted and not so big.\n",
    "On the other hand, in case of Word-based model, the model can learn and perform better result because the generalization is better in Word-based case than Character-based."
   ]
  },
  {
   "cell_type": "markdown",
   "metadata": {
    "deletable": false,
    "editable": false,
    "nbgrader": {
     "cell_type": "markdown",
     "checksum": "d46a8dfd340b8f68e51a041307f7d7d3",
     "grade": false,
     "grade_id": "cell-ebc0d8ae3061c0fc",
     "locked": true,
     "schema_version": 3,
     "solution": false,
     "task": false
    }
   },
   "source": [
    "### Using PyTorch\n",
    "\n",
    "We'll build our language model using PyTorch. PyTorch is a [very popular](https://thegradient.pub/state-of-ml-frameworks-2019-pytorch-dominates-research-tensorflow-dominates-industry/) open-source machine learning (and deep learning) framework developed by Facebook. In short:\n",
    "\n",
    "> Pytorch is a Python-based scientific computing package targeted at two sets of audiences:\n",
    "* A replacement for NumPy to use the power of GPUs\n",
    "* A deep learning research platform that provides maximum flexibility and speed\n",
    "\n",
    "To get familiar with PyTorch, check out this [quick tutorial](https://pytorch.org/tutorials/beginner/blitz/tensor_tutorial.html). In addition, another imporant difference from numpy is that PyTorch can automatically calculate the gradients needed for backpropagation, as explained [here](https://pytorch.org/tutorials/beginner/blitz/autograd_tutorial.html)."
   ]
  },
  {
   "cell_type": "markdown",
   "metadata": {
    "deletable": false,
    "editable": false,
    "nbgrader": {
     "cell_type": "markdown",
     "checksum": "02af8a21a2e8fae58d84f915de5b016d",
     "grade": false,
     "grade_id": "cell-aa2773db1bef7014",
     "locked": true,
     "schema_version": 3,
     "solution": false,
     "task": false
    }
   },
   "source": [
    "### Preparing the Data\n",
    "\n",
    "Our dataset is a plain text file. For simplicity, we turn any potential unicode characters into plain ASCII by using the `unidecode` package."
   ]
  },
  {
   "cell_type": "code",
   "execution_count": 11,
   "metadata": {
    "deletable": false,
    "editable": false,
    "nbgrader": {
     "cell_type": "code",
     "checksum": "ef0359e8c08b2057771c115150011e7e",
     "grade": false,
     "grade_id": "cell-cce75419c097f3fd",
     "locked": true,
     "schema_version": 3,
     "solution": false,
     "task": false
    },
    "pycharm": {
     "is_executing": false
    }
   },
   "outputs": [
    {
     "name": "stdout",
     "output_type": "stream",
     "text": [
      "Total number of characters in our dataset: 1115394\n"
     ]
    }
   ],
   "source": [
    "import string\n",
    "import random\n",
    "import re\n",
    "\n",
    "import unidecode\n",
    "\n",
    "all_characters = string.printable\n",
    "n_characters = len(all_characters)  # our vocabulary size (|V| from the handout)\n",
    "\n",
    "dataset_as_string = unidecode.unidecode(open('data/shakespeare.txt').read())\n",
    "n_chars_in_dataset = len(dataset_as_string)\n",
    "print(f'Total number of characters in our dataset: {n_chars_in_dataset}')"
   ]
  },
  {
   "cell_type": "markdown",
   "metadata": {
    "deletable": false,
    "editable": false,
    "nbgrader": {
     "cell_type": "markdown",
     "checksum": "06dd2ac91a6296206475c7e330e53e3d",
     "grade": false,
     "grade_id": "cell-d795f907dd7922f3",
     "locked": true,
     "schema_version": 3,
     "solution": false,
     "task": false
    }
   },
   "source": [
    "To make inputs out of this big string of text, we will split it into chunks."
   ]
  },
  {
   "cell_type": "code",
   "execution_count": 12,
   "metadata": {
    "deletable": false,
    "editable": false,
    "nbgrader": {
     "cell_type": "code",
     "checksum": "61947ad22fb7f16eba246d47ab8cae22",
     "grade": false,
     "grade_id": "cell-379f229536dae19b",
     "locked": true,
     "schema_version": 3,
     "solution": false,
     "task": false
    },
    "pycharm": {
     "is_executing": false
    }
   },
   "outputs": [
    {
     "name": "stdout",
     "output_type": "stream",
     "text": [
      "\n",
      "Sir, my lord,\n",
      "I could do this, and that with no rash potion,\n",
      "But with a lingering dram that should not work\n",
      "Maliciously like poison: but I cannot\n",
      "Believe this crack to be in my dread mistress,\n",
      "So sovereignly being honourable.\n",
      "I have loved thee,--\n",
      "\n",
      "LEONTES:\n",
      "Make that thy question, and go rot!\n",
      "Dost think I am so muddy, so unsettled,\n",
      "To appoint myself in this vexation, sully\n",
      "The purity and whiteness \n"
     ]
    }
   ],
   "source": [
    "chunk_len = 400\n",
    "\n",
    "def random_chunk():\n",
    "    start_index = random.randint(0, n_chars_in_dataset - chunk_len)\n",
    "    end_index = start_index + chunk_len + 1\n",
    "    return dataset_as_string[start_index:end_index]\n",
    "\n",
    "print(random_chunk())"
   ]
  },
  {
   "cell_type": "markdown",
   "metadata": {
    "deletable": false,
    "editable": false,
    "nbgrader": {
     "cell_type": "markdown",
     "checksum": "ba5d4900ff254fa335fe935962878c8d",
     "grade": false,
     "grade_id": "cell-fcbb2d73f4e442fb",
     "locked": true,
     "schema_version": 3,
     "solution": false,
     "task": false
    }
   },
   "source": [
    "### Building Our Model\n",
    "\n",
    "Our model consists of three main components:\n",
    "\n",
    "1. [**Embedding**](https://pytorch.org/docs/stable/nn.html#embedding). A mapping between characters and their learned representations (\"word vectors\") \\[correspoding to ${\\boldsymbol L}$ in terms of the handout\\]\n",
    "2. [**GRU**](https://pytorch.org/docs/stable/nn.html#gru). \\[correspoding to the computation of ${\\boldsymbol h}^{(t)}$ in terms of the handout\\]\n",
    "3. **Output Layer**. A feed-forward neural network that transforms a hidden state at a timestep into a probability distribution of the next character. \\[correspoding to the computation of $\\hat{\\boldsymbol y}^{(t)}$ in terms of the handout\\] "
   ]
  },
  {
   "cell_type": "markdown",
   "metadata": {},
   "source": [
    "### Question 3.b\n",
    "Complete the implementation of the `forward` method of our model."
   ]
  },
  {
   "cell_type": "code",
   "execution_count": 13,
   "metadata": {
    "deletable": false,
    "nbgrader": {
     "cell_type": "code",
     "checksum": "a9ad1239fcd5aec23f439249397895ec",
     "grade": false,
     "grade_id": "cell-1640492438386e87",
     "locked": false,
     "schema_version": 3,
     "solution": true,
     "task": false
    },
    "pycharm": {
     "is_executing": false
    }
   },
   "outputs": [],
   "source": [
    "import torch\n",
    "import torch.nn as nn\n",
    "from torch.autograd import Variable\n",
    "\n",
    "class OurModel(nn.Module):\n",
    "    def __init__(self, input_size, hidden_size, output_size, num_layers=1):\n",
    "        super(OurModel, self).__init__()\n",
    "        self.input_size = input_size\n",
    "        self.hidden_size = hidden_size\n",
    "        self.output_size = output_size\n",
    "        self.num_layers = num_layers\n",
    "        \n",
    "        self.embedding = nn.Embedding(input_size, hidden_size)  # In the terms of the handout, here d = D_h\n",
    "        self.gru = nn.GRU(hidden_size, hidden_size, num_layers)\n",
    "        self.output_layer = nn.Linear(hidden_size, output_size)\n",
    "    \n",
    "    def forward(self, input_, hidden):\n",
    "        # General instructions:\n",
    "        # Pass the embedded input through the GRU and use the output layer to get the next character distribution.\n",
    "        # return that distribution and the next hidden state.\n",
    "        # You may need to play around with the dimensions a bit until you get it right. Dimension-induced frustration is good for you!\n",
    "        # -------------------------\n",
    "        # YOUR CODE HERE\n",
    "        if len(input_.shape) == 0:\n",
    "            input_ = input_.unsqueeze(0)\n",
    "        emb = self.embedding(input_)\n",
    "        emb = emb.unsqueeze(0)\n",
    "        out, hidden = self.gru(emb, hidden)\n",
    "        output = self.output_layer(out)\n",
    "        output = output.squeeze(0)\n",
    "        # -------------------------\n",
    "        return output, hidden\n",
    "\n",
    "    def init_hidden(self):\n",
    "        return Variable(torch.zeros(self.num_layers, 1, self.hidden_size))"
   ]
  },
  {
   "cell_type": "markdown",
   "metadata": {
    "deletable": false,
    "editable": false,
    "nbgrader": {
     "cell_type": "markdown",
     "checksum": "da793a49917dc4882e7e70f04d07a777",
     "grade": false,
     "grade_id": "cell-b9299fddeb082b4e",
     "locked": true,
     "schema_version": 3,
     "solution": false,
     "task": false
    }
   },
   "source": [
    "### Creating the Training Examples"
   ]
  },
  {
   "cell_type": "markdown",
   "metadata": {
    "deletable": false,
    "editable": false,
    "nbgrader": {
     "cell_type": "markdown",
     "checksum": "f6eaeb80c370b32f26eda2ac1be57444",
     "grade": false,
     "grade_id": "cell-83bf9e1b0374206c",
     "locked": true,
     "schema_version": 3,
     "solution": false,
     "task": false
    }
   },
   "source": [
    "Each chunk will be turned into a tensor by looping through the characters of the string and looking up the index of each character in `all_characters`."
   ]
  },
  {
   "cell_type": "code",
   "execution_count": 14,
   "metadata": {
    "deletable": false,
    "editable": false,
    "nbgrader": {
     "cell_type": "code",
     "checksum": "cc87bca342db2fde1b3957f48bcfe857",
     "grade": false,
     "grade_id": "cell-5360afdd0b03b1f4",
     "locked": true,
     "schema_version": 3,
     "solution": false,
     "task": false
    },
    "pycharm": {
     "is_executing": false
    }
   },
   "outputs": [
    {
     "name": "stdout",
     "output_type": "stream",
     "text": [
      "tensor([10, 11, 12, 39, 40, 41])\n"
     ]
    }
   ],
   "source": [
    "# Turn a string into list of longs\n",
    "def chars_to_tensor(string):\n",
    "    tensor = torch.zeros(len(string)).long()\n",
    "    for c in range(len(string)):\n",
    "        tensor[c] = all_characters.index(string[c])\n",
    "    return Variable(tensor)\n",
    "\n",
    "print(chars_to_tensor('abcDEF'))"
   ]
  },
  {
   "cell_type": "markdown",
   "metadata": {
    "deletable": false,
    "editable": false,
    "nbgrader": {
     "cell_type": "markdown",
     "checksum": "32c02aa64cee9046c2917487ac982de0",
     "grade": false,
     "grade_id": "cell-6e7b3d9e8c9396bb",
     "locked": true,
     "schema_version": 3,
     "solution": false,
     "task": false
    }
   },
   "source": [
    "Each training example for our model will be created from a chunk randomly extracted from our shakespeare dataset. For example, if we set our chunk size to be 28, then a randomly extracted chunk could be $\\texttt{As deep as that, though true}$. Each training example is of a form $(\\textbf{x},\\textbf{y})$ where $\\textbf{x}$ is all the charecters of the chunk *except the last* and $\\textbf{y}$ is all the charecters of the chunk *except the first*. For example, given the chunk above, $\\textbf{x}=\\texttt{As deep as that, though tru}$ and $\\textbf{y}=\\texttt{s deep as that, though true}$. At timestep i our input is $\\textbf{x}^{(i)}$ and the gold label our model will try to predict is $\\textbf{y}^{(i)}$."
   ]
  },
  {
   "cell_type": "code",
   "execution_count": 15,
   "metadata": {
    "deletable": false,
    "editable": false,
    "nbgrader": {
     "cell_type": "code",
     "checksum": "f159d648c0ab9ffbdc096aeac6905a57",
     "grade": false,
     "grade_id": "cell-d3539c5f1d96a188",
     "locked": true,
     "schema_version": 3,
     "solution": false,
     "task": false
    },
    "pycharm": {
     "is_executing": false
    }
   },
   "outputs": [],
   "source": [
    "def random_training_example():    \n",
    "    chunk = random_chunk()\n",
    "    inp = chars_to_tensor(chunk[:-1])\n",
    "    target = chars_to_tensor(chunk[1:])\n",
    "    return inp, target"
   ]
  },
  {
   "cell_type": "markdown",
   "metadata": {
    "deletable": false,
    "editable": false,
    "nbgrader": {
     "cell_type": "markdown",
     "checksum": "18a6bf800d9bc590739b15ba01dda408",
     "grade": false,
     "grade_id": "cell-16d13f3b273395ac",
     "locked": true,
     "schema_version": 3,
     "solution": false,
     "task": false
    }
   },
   "source": [
    "### Evaluating\n",
    "\n",
    "To evaluate the network we will feed one character at a time, use the outputs of the network as a probability distribution for the next character, and repeat. To start generation we pass a priming string to start building up the hidden state, from which we then generate one character at a time."
   ]
  },
  {
   "cell_type": "code",
   "execution_count": 16,
   "metadata": {
    "deletable": false,
    "editable": false,
    "nbgrader": {
     "cell_type": "code",
     "checksum": "a47c721a818979b886f119401206e756",
     "grade": false,
     "grade_id": "cell-44ab27a8fee696ad",
     "locked": true,
     "schema_version": 3,
     "solution": false,
     "task": false
    },
    "pycharm": {
     "is_executing": false
    }
   },
   "outputs": [],
   "source": [
    "import torch.nn.functional as F\n",
    "\n",
    "def evaluate(prime_str='A', predict_len=100, temperature=0.8):\n",
    "    hidden = model.init_hidden()\n",
    "    prime_input = chars_to_tensor(prime_str)\n",
    "    predicted = prime_str\n",
    "\n",
    "    # Use priming string to \"build up\" hidden state\n",
    "    for p in range(len(prime_str) - 1):\n",
    "        _, hidden = model(prime_input[p], hidden)\n",
    "    inp = prime_input[-1]\n",
    "    \n",
    "    for p in range(predict_len):\n",
    "        output, hidden = model(inp, hidden)\n",
    "        \n",
    "        # Sample from the network as a multinomial distribution\n",
    "        output_dist =  F.softmax(output / temperature, dim=-1)\n",
    "        top_i = torch.multinomial(output_dist, 1)[0]\n",
    "        \n",
    "        # Add predicted character to string and use as next input\n",
    "        predicted_char = all_characters[top_i]\n",
    "        predicted += predicted_char\n",
    "        inp = chars_to_tensor(predicted_char)\n",
    "\n",
    "    return predicted"
   ]
  },
  {
   "cell_type": "markdown",
   "metadata": {
    "deletable": false,
    "editable": false,
    "nbgrader": {
     "cell_type": "markdown",
     "checksum": "3fffa10554299eaae14cc007fea3935a",
     "grade": false,
     "grade_id": "cell-1d3fd015fe8f64d1",
     "locked": true,
     "schema_version": 3,
     "solution": false,
     "task": false
    }
   },
   "source": [
    "### Training"
   ]
  },
  {
   "cell_type": "markdown",
   "metadata": {
    "deletable": false,
    "editable": false,
    "nbgrader": {
     "cell_type": "markdown",
     "checksum": "8a98218b35f47137eeba1ba1aead0700",
     "grade": false,
     "grade_id": "cell-a209b293a8850a57",
     "locked": true,
     "schema_version": 3,
     "solution": false,
     "task": false
    }
   },
   "source": [
    "The main training function"
   ]
  },
  {
   "cell_type": "code",
   "execution_count": 17,
   "metadata": {
    "deletable": false,
    "editable": false,
    "nbgrader": {
     "cell_type": "code",
     "checksum": "eb3bfcd4d49b2f2672447d8c65b6cb05",
     "grade": false,
     "grade_id": "cell-e246cbd9689e1a6d",
     "locked": true,
     "schema_version": 3,
     "solution": false,
     "task": false
    },
    "pycharm": {
     "is_executing": false
    }
   },
   "outputs": [],
   "source": [
    "def train(inp, target):\n",
    "    hidden = model.init_hidden()\n",
    "    model.zero_grad()\n",
    "    loss = 0\n",
    "\n",
    "    for c in range(chunk_len):\n",
    "        output, hidden = model(inp[c], hidden)\n",
    "        loss += criterion(output, target[c].view(-1))\n",
    "\n",
    "    loss.backward()\n",
    "    optimizer.step()\n",
    "\n",
    "    return loss.item() / chunk_len"
   ]
  },
  {
   "cell_type": "markdown",
   "metadata": {
    "deletable": false,
    "editable": false,
    "nbgrader": {
     "cell_type": "markdown",
     "checksum": "bfb863e279db4b170c35d8d0c7a37a1f",
     "grade": false,
     "grade_id": "cell-05ce9b9275e0d1cc",
     "locked": true,
     "schema_version": 3,
     "solution": false,
     "task": false
    }
   },
   "source": [
    "A helper to print the amount of time passed:"
   ]
  },
  {
   "cell_type": "code",
   "execution_count": 18,
   "metadata": {
    "deletable": false,
    "editable": false,
    "nbgrader": {
     "cell_type": "code",
     "checksum": "16d7b53f211a6a1bef71c1dd2d1271cf",
     "grade": false,
     "grade_id": "cell-cb78afef7022f9a1",
     "locked": true,
     "schema_version": 3,
     "solution": false,
     "task": false
    },
    "pycharm": {
     "is_executing": false
    }
   },
   "outputs": [],
   "source": [
    "import time, math\n",
    "\n",
    "def time_since(since):\n",
    "    s = time.time() - since\n",
    "    m = math.floor(s / 60)\n",
    "    s -= m * 60\n",
    "    return f'{m}m {math.floor(s)}s'"
   ]
  },
  {
   "cell_type": "code",
   "execution_count": 19,
   "metadata": {
    "deletable": false,
    "editable": false,
    "nbgrader": {
     "cell_type": "code",
     "checksum": "2b368f1767ddd0eddca44249fa47ed32",
     "grade": true,
     "grade_id": "cell-98f46bec0b8c87cc",
     "locked": true,
     "points": 10,
     "schema_version": 3,
     "solution": false,
     "task": false
    }
   },
   "outputs": [],
   "source": [
    "# DO NOT DELETE THIS CELL\n"
   ]
  },
  {
   "cell_type": "markdown",
   "metadata": {
    "deletable": false,
    "editable": false,
    "nbgrader": {
     "cell_type": "markdown",
     "checksum": "98abd7dd7805753c2e7b635f1265cb73",
     "grade": false,
     "grade_id": "cell-baf25642209867dc",
     "locked": true,
     "schema_version": 3,
     "solution": false,
     "task": false
    }
   },
   "source": [
    "Define the training parameters, instantiate the model, and start training:"
   ]
  },
  {
   "cell_type": "code",
   "execution_count": 20,
   "metadata": {
    "deletable": false,
    "editable": false,
    "nbgrader": {
     "cell_type": "code",
     "checksum": "b7392249521c153ef4d7713eecb8204a",
     "grade": false,
     "grade_id": "cell-4900f92ae503be69",
     "locked": true,
     "schema_version": 3,
     "solution": false,
     "task": false
    },
    "pycharm": {
     "is_executing": false
    }
   },
   "outputs": [
    {
     "name": "stdout",
     "output_type": "stream",
     "text": [
      "[time elapsed: 0m 35s  ;  iterations: 100 (5.0%)  ;  loss: 2.198]\n",
      "Why and oull bin.\n",
      "\n",
      "CERICQUS:\n",
      "Ou I the hapime thav venfesen te hert merea pall und pean ban sine he upeas mer has blel he path\n",
      "hutich fat lod ared the ey,\n",
      "He thath a het had me\n",
      "hinis hipees ing you feand \n",
      "\n",
      "[time elapsed: 1m 12s  ;  iterations: 200 (10.0%)  ;  loss: 2.163]\n",
      "Whe homade how thou losst in that thou to the ome thou wo rane, bentue to my the of weit, comefor me eath ane'd air, art the leart.\n",
      "\n",
      "CUCER:\n",
      "Wist brave ot wait tay my to manten, go his to molfor boder\n",
      "jo \n",
      "\n",
      "[time elapsed: 1m 54s  ;  iterations: 300 (15.0%)  ;  loss: 1.995]\n",
      "Whave lice wo love that the to stragey\n",
      "And was be now, ing were his be the theee and the the madeds as moins the thins and as of your\n",
      "By love, great, there\n",
      "Will the prough mepus whis aoke the will notin \n",
      "\n",
      "[time elapsed: 2m 33s  ;  iterations: 400 (20.0%)  ;  loss: 2.141]\n",
      "Whe him that with be, all wea her herse you harry be to by hing hime fathen make is in old!\n",
      "How hear, not ontly but her sare, my lond manes:\n",
      "The she son a he sweld to like we be love,\n",
      "In's cother the no \n",
      "\n",
      "[time elapsed: 3m 9s  ;  iterations: 500 (25.0%)  ;  loss: 1.872]\n",
      "Whime to dike mine to comman, my to the word me?\n",
      "\n",
      "KING RICINCENTIO:\n",
      "He camp seevels thou.\n",
      "I have and in 'tand the of geve dauth!\n",
      "Frught words under his lover me and fecunce now.\n",
      "\n",
      "Catruak vears.\n",
      "\n",
      "PERUMIO \n",
      "\n",
      "[time elapsed: 3m 44s  ;  iterations: 600 (30.0%)  ;  loss: 1.836]\n",
      "What have Kust ender for that pepervy soo?\n",
      "\n",
      "BLOUCESTER:\n",
      "A are no dead ouver should fail down:\n",
      "We home, this shoud the shalt:\n",
      "Tave it the truits upitized but oinks; shall suck\n",
      "Who that I was comend ball  \n",
      "\n",
      "[time elapsed: 4m 18s  ;  iterations: 700 (35.0%)  ;  loss: 1.755]\n",
      "Whe him are is and thy we shall soineed.\n",
      "\n",
      "BONY:\n",
      "No, call abour tity you deed.\n",
      "\n",
      "LUCETHUS:\n",
      "What yout do stagemon is of it hate of you for dimped\n",
      "ne coand be it all it utis in full in elords, yales if all  \n",
      "\n",
      "[time elapsed: 4m 53s  ;  iterations: 800 (40.0%)  ;  loss: 1.741]\n",
      "Whe heart his brothes to live fair of thee.\n",
      "\n",
      "ROMEO:\n",
      "That well buts your laine, him the the trease, not I all blow,\n",
      "That a cheed unty folss, have the good ment like of caagain\n",
      "I well thou presear and to  \n",
      "\n",
      "[time elapsed: 5m 28s  ;  iterations: 900 (45.0%)  ;  loss: 1.884]\n",
      "What and yourself or knoth to their not netruen.\n",
      "\n",
      "PETRUCHIO:\n",
      "Sure that Come, which hold dive dires,\n",
      "Ints in to dood, sorrow, will straighters,\n",
      "Why may deal heas sir, not he moysion,\n",
      "Whath the a atin cro \n",
      "\n",
      "[time elapsed: 6m 3s  ;  iterations: 1000 (50.0%)  ;  loss: 1.907]\n",
      "When:\n",
      "And cears, thou prome, that and sir?\n",
      "\n",
      "JORCABKIA:\n",
      "I have uriess the hear, the will in us so wa\n",
      "Gporst see, and the very to her as a reach\n",
      "Warwy'd for should le:' the firer'd-woire?\n",
      "\n",
      "LUCENIUS:\n",
      "And,  \n",
      "\n",
      "[time elapsed: 6m 38s  ;  iterations: 1100 (55.00000000000001%)  ;  loss: 1.726]\n",
      "Whathar!\n",
      "What come it, wilt; 'twating so, or ladrion, soo sin;\n",
      "Apon that to to stoo, by up ashal death seepers and on I ling your good like of thou proud,\n",
      "Why, ting our deavy old drace ris him tong your \n",
      "\n",
      "[time elapsed: 7m 13s  ;  iterations: 1200 (60.0%)  ;  loss: 1.664]\n",
      "Whar with thy man the comes\n",
      "A besttle, Byan, of wither.\n",
      "\n",
      "AUCHIO:\n",
      "When thing of yourself you may as thanged of your'd the strack\n",
      "That your the filled a blow one gother them we like a to fort six\n",
      "a fliene \n",
      "\n",
      "[time elapsed: 7m 48s  ;  iterations: 1300 (65.0%)  ;  loss: 1.54]\n",
      "Whim the sounds,\n",
      "Where see the in the sain I dauking are in\n",
      "Wan lais as though that and take us not her the fluty warry dols'\n",
      "But wheng shall so speeds agale took to the distrither.\n",
      "\n",
      "First Clifned.\n",
      "\n",
      "HER \n",
      "\n",
      "[time elapsed: 8m 23s  ;  iterations: 1400 (70.0%)  ;  loss: 2.127]\n",
      "WhUng been the, and that cencorrifench,\n",
      "And marry that to mading's wrong take, the poort, so with make,\n",
      "Gods hing and in resome, the gone,\n",
      "Were in sird unce poistain that concean,\n",
      "So, I can man, is in t \n",
      "\n",
      "[time elapsed: 8m 58s  ;  iterations: 1500 (75.0%)  ;  loss: 1.419]\n",
      "Wh: have with the\n",
      "Be marnow. What thabstitious.\n",
      "\n",
      "BAKINGA:\n",
      "But of Yourse.\n",
      "\n",
      "KING HENY:\n",
      "Ghow'd thy like the right our this to wad and day the die but the it not telcome in town,\n",
      "Walk, you, this king's Came \n",
      "\n",
      "[time elapsed: 9m 33s  ;  iterations: 1600 (80.0%)  ;  loss: 1.778]\n",
      "Wh, good and my spead, and blood!\n",
      "\n",
      "COLIONES:\n",
      "And suspain set you words mouth would shall how that feed\n",
      "Whoine you like of thie.\n",
      "\n",
      "SirX\n",
      "Cllay, I see come and all a but the\n",
      "come a rown songerous befor now  \n",
      "\n",
      "[time elapsed: 10m 7s  ;  iterations: 1700 (85.0%)  ;  loss: 1.607]\n",
      "Whar fiver\n",
      "Who do face for your he furbend\n",
      "Who so unit is the bursian to me\n",
      "Have you this of a sile the love\n",
      "Shall for sovander pears all us may with my fliced,\n",
      "With you every should servants, him you s \n",
      "\n",
      "[time elapsed: 10m 43s  ;  iterations: 1800 (90.0%)  ;  loss: 1.825]\n",
      "Whit him.\n",
      "\n",
      "PORTESNIUS:\n",
      "I'll by you blament loign intered.\n",
      "\n",
      "KING HERCHERY VI:\n",
      "Thor his? while the will him hived is therefore:\n",
      "And her postracion be that with they pretiner.\n",
      "\n",
      "HASTINA:\n",
      "Hiss poinery than y \n",
      "\n",
      "[time elapsed: 11m 18s  ;  iterations: 1900 (95.0%)  ;  loss: 1.656]\n",
      "Wher hold, sire: stay?\n",
      "\n",
      "Servats?\n",
      "\n",
      "LADY VI\n",
      "This losts ear of merter beserfore brand,\n",
      "Which horsed crosin of there will know these.\n",
      "To he deather, thou will there conse: dow?\n",
      "Weartiomed thou wings unlongs \n",
      "\n",
      "[time elapsed: 11m 57s  ;  iterations: 2000 (100.0%)  ;  loss: 1.484]\n",
      "Whergrus love of thems!\n",
      "\n",
      "Firs:\n",
      "So, wister the for conder the with sold.\n",
      "\n",
      "GLOUCESTER:\n",
      "Or spee, givy sided, where deeds, the litains,\n",
      "Of whom heeernt. I would slacompone.\n",
      "\n",
      "GLOUCESTER:\n",
      "What, and a here as  \n",
      "\n"
     ]
    }
   ],
   "source": [
    "n_iterations = 2000\n",
    "print_every = 100\n",
    "plot_every = 10\n",
    "hidden_size = 100  # (D_h from the handout)\n",
    "num_layers = 1\n",
    "lr = 0.005\n",
    "\n",
    "model = OurModel(n_characters, hidden_size, n_characters, num_layers)\n",
    "optimizer = torch.optim.Adam(model.parameters(), lr=lr)\n",
    "criterion = nn.CrossEntropyLoss()\n",
    "\n",
    "start = time.time()\n",
    "all_losses = []\n",
    "loss_avg = 0\n",
    "\n",
    "for iteration in range(1, n_iterations + 1):\n",
    "    loss = train(*random_training_example())       \n",
    "    loss_avg += loss\n",
    "\n",
    "    if iteration % print_every == 0:\n",
    "        print(f'[time elapsed: {time_since(start)}  ;  iterations: {iteration} ({iteration / n_iterations * 100}%)  ;  loss: {loss:.4}]')\n",
    "        print(evaluate('Wh', 200), '\\n')  # generate text starting with 'Wh'\n",
    "\n",
    "    if iteration % plot_every == 0:\n",
    "        all_losses.append(loss_avg / plot_every)\n",
    "        loss_avg = 0"
   ]
  },
  {
   "cell_type": "markdown",
   "metadata": {
    "deletable": false,
    "editable": false,
    "nbgrader": {
     "cell_type": "markdown",
     "checksum": "8584d3be75d90a5197e7133411e0021d",
     "grade": false,
     "grade_id": "cell-ff9d72dafefa0a23",
     "locked": true,
     "schema_version": 3,
     "solution": false,
     "task": false
    }
   },
   "source": [
    "### Training Loss\n",
    "\n",
    "Plotting the the losses that were computed during training can provide a further indication that the network was indeed learning."
   ]
  },
  {
   "cell_type": "code",
   "execution_count": 21,
   "metadata": {
    "deletable": false,
    "editable": false,
    "nbgrader": {
     "cell_type": "code",
     "checksum": "77791204e14b67d3ad68d70695c479a6",
     "grade": false,
     "grade_id": "cell-f91bb597844b8f7d",
     "locked": true,
     "schema_version": 3,
     "solution": false,
     "task": false
    },
    "pycharm": {
     "is_executing": false
    }
   },
   "outputs": [
    {
     "data": {
      "text/plain": [
       "[<matplotlib.lines.Line2D at 0x11efb28d0>]"
      ]
     },
     "execution_count": 21,
     "metadata": {},
     "output_type": "execute_result"
    },
    {
     "data": {
      "image/png": "[encoded data removed]",
      "text/plain": [
       "<Figure size 432x288 with 1 Axes>"
      ]
     },
     "metadata": {
      "needs_background": "light"
     },
     "output_type": "display_data"
    }
   ],
   "source": [
    "import matplotlib.pyplot as plt\n",
    "%matplotlib inline\n",
    "\n",
    "plt.grid(True)\n",
    "plt.xlabel('# of iterations (divided by plot_every)')\n",
    "plt.ylabel('average loss')\n",
    "plt.plot(all_losses)"
   ]
  },
  {
   "cell_type": "markdown",
   "metadata": {
    "deletable": false,
    "editable": false,
    "nbgrader": {
     "cell_type": "markdown",
     "checksum": "a376c5ed8b8f2dff9ea4731669bc8a49",
     "grade": false,
     "grade_id": "cell-dac1f386e2b526f5",
     "locked": true,
     "schema_version": 3,
     "solution": false,
     "task": false
    }
   },
   "source": [
    "### Evaluating at Different Temperatures\n",
    "Every time we use the `evaluate` function to generate the distribution of the next character, we don't just use softmax as usual, but we also divide by a `temperature`.  \n",
    "Let's examine the effect of changing the temperature when generating text using our trained model:"
   ]
  },
  {
   "cell_type": "code",
   "execution_count": 22,
   "metadata": {},
   "outputs": [
    {
     "name": "stdout",
     "output_type": "stream",
     "text": [
      "The words:\n",
      "Which our so so the with the with the with the with the with the with the with the with the with the with the with the with the with the with the with the with the with the proud the with the with the with the with the with the with the with the with the with the with the with the with the with the proud the with the with the with the proud the with the with the with the with the with the\n"
     ]
    }
   ],
   "source": [
    "print(evaluate('Th', 400, temperature=0.1))"
   ]
  },
  {
   "cell_type": "code",
   "execution_count": 23,
   "metadata": {},
   "outputs": [
    {
     "name": "stdout",
     "output_type": "stream",
     "text": [
      "The the were for the deather:\n",
      "Which to this so with stnown with faith pition:\n",
      "I have for as the with that with me we so so he would.\n",
      "\n",
      "GLOUCESTER:\n",
      "And so so with the for your our to he with me deather:\n",
      "Where the so with siting to his lord.\n",
      "\n",
      "GLOUCESTER:\n",
      "And self me a king of the with me.\n",
      "\n",
      "GLOUCESTER:\n",
      "My so the with his stone he with we\n",
      "But a words to me a stright.\n",
      "\n",
      "GREMIO:\n",
      "What the which the lived the\n"
     ]
    }
   ],
   "source": [
    "print(evaluate('Th', 400, temperature=0.5))"
   ]
  },
  {
   "cell_type": "code",
   "execution_count": 24,
   "metadata": {},
   "outputs": [
    {
     "name": "stdout",
     "output_type": "stream",
     "text": [
      "Th:\n",
      "I may, leds, bearled, hand,\n",
      "For his cheer the wond of we art desside\n",
      "Such signse thou by stend there it.\n",
      "\n",
      "BARGARD OF VINCENTIO:\n",
      "What were, you riked to suren mory Lord-\n",
      "GREMIUS:\n",
      "But the kings his preds do alark,\n",
      "And me confelve great aid yebary up so up is:\n",
      "Whouse inted, a but dranfer and the show is every\n",
      "Being to him his had we woo wither.\n",
      "\n",
      "AUTUS:\n",
      "What you have looks whereann'd is provines\n",
      "For\n"
     ]
    }
   ],
   "source": [
    "print(evaluate('Th', 400, temperature=0.8))  # the default value"
   ]
  },
  {
   "cell_type": "code",
   "execution_count": 25,
   "metadata": {},
   "outputs": [
    {
     "name": "stdout",
     "output_type": "stream",
     "text": [
      "Thee,\n",
      "And, speres at through to in like rust;\n",
      "And soublal fromin'd to our with spit thorman,\n",
      "And says right speak as and\n",
      "A go thir ye Lord yeavence,\n",
      "In't to pleath miss the bread,\n",
      "The carrsinss he his light, vanged sined: who the hath you;\n",
      "Thou bovows in will ome Corood.\n",
      "I hie true to and our hove, us;\n",
      "A upon Oce are nurding prentued, and with our which,\n",
      "Edy whill our now.\n",
      "\n",
      "DO RIVESe\n",
      "But of, to to n\n"
     ]
    }
   ],
   "source": [
    "print(evaluate('Th', 400, temperature=1))"
   ]
  },
  {
   "cell_type": "code",
   "execution_count": 26,
   "metadata": {},
   "outputs": [
    {
     "name": "stdout",
     "output_type": "stream",
     "text": [
      "Thom' for3R\n",
      "Ze'ncelages.' vind houghtsets: he die, witunss elow?\n",
      "gence. with' thy roschdrent tilaniraf; Pecoft\n",
      "Naud, any how basticauaintuex thou''lila awhip ust.\n",
      "Ob, thm thich crimazle.\n",
      "Dleam besellent assqule., de, Polit?\n",
      "O, t with troy a stanliow atom up;\n",
      "For 'Joor destan; infez; aboul.\n",
      ".\n",
      "Lutty canholy---NicsaRe? yue.\n",
      "Evhow nother priceastier she wearl.\n",
      "\n",
      "GLOUF,e-hioseval hom, on,\n",
      "Till becrictor I\n"
     ]
    }
   ],
   "source": [
    "print(evaluate('Th', 400, temperature=1.5))"
   ]
  },
  {
   "cell_type": "markdown",
   "metadata": {
    "deletable": false,
    "editable": false,
    "nbgrader": {
     "cell_type": "markdown",
     "checksum": "33ad994fe23b1e288fc8ef61422435cd",
     "grade": false,
     "grade_id": "cell-08d4f5f563b097a0",
     "locked": true,
     "schema_version": 3,
     "solution": false,
     "task": false
    }
   },
   "source": [
    "### Question 3.c\n",
    "How does the value of `temperature` affect the properties of the generated text?\n",
    "Specifically address the process of sampling a character from the next character distribution, and the effect `temperature` has on it."
   ]
  },
  {
   "cell_type": "markdown",
   "metadata": {
    "deletable": false,
    "nbgrader": {
     "cell_type": "markdown",
     "checksum": "73f841dadc6afd8d63765a083c3f8914",
     "grade": true,
     "grade_id": "cell-bfdb7d9e747067db",
     "locked": false,
     "points": 6,
     "schema_version": 3,
     "solution": true,
     "task": false
    }
   },
   "source": [
    "**WRITE YOUR ANSWER IN THIS CELL**\n",
    "As we can see, as the temperature going far from the default value (0.8) the sentences become less logical and reasonable.\n",
    "Dividing by T<1 makes the model's logits being bigger and the entire model is more \"confident\" with his decision but also the model becomes more \"conservative\", whereas dividing by T>1 makes out logits to be smaller and the model predict more diverse and mistable."
   ]
  }
 ],
 "metadata": {
  "anaconda-cloud": {},
  "kernelspec": {
   "display_name": "Python [conda env:nlp-hw2-q3]",
   "language": "python",
   "name": "conda-env-nlp-hw2-q3-py"
  },
  "language_info": {
   "codemirror_mode": {
    "name": "ipython",
    "version": 3
   },
   "file_extension": ".py",
   "mimetype": "text/x-python",
   "name": "python",
   "nbconvert_exporter": "python",
   "pygments_lexer": "ipython3",
   "version": "3.7.5"
  },
  "pycharm": {
   "stem_cell": {
    "cell_type": "raw",
    "metadata": {
     "collapsed": false
    },
    "source": []
   }
  }
 },
 "nbformat": 4,
 "nbformat_minor": 1
}

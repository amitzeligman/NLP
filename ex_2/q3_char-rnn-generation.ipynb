{
 "cells": [
  {
   "cell_type": "markdown",
   "metadata": {},
   "source": [
    "### Submission Instructions:\n",
    "1. **Restart the kernel** (in the menubar, select Runtime$\\rightarrow$Restart runtime)\n",
    "2. **Run all cells** (in the menubar, select Runtime$\\rightarrow$Run All).\n",
    "3. **Download the notebook** (in the menubar, select File$\\rightarrow$Download .ipynb)\n",
    "4. **Add the downloaded notebook (.ipynb file) to the submission zip**.\n",
    "\n",
    "Make sure you fill in any place that says `YOUR CODE HERE` or \"**WRITE YOUR ANSWER IN THIS CELL**\", and that no tests fail.  \n",
    "Write the IDs of all group members in the cell below. Leave any surplus IDs as `\"\"`."
   ]
  },
  {
   "cell_type": "markdown",
   "metadata": {},
   "source": [
    "ID1 = \"\"  \n",
    "ID2 = \"\"  \n"
   ]
  },
  {
   "cell_type": "markdown",
   "metadata": {},
   "source": [
    "---"
   ]
  },
  {
   "cell_type": "markdown",
   "metadata": {
    "deletable": false,
    "editable": false,
    "nbgrader": {
     "cell_type": "markdown",
     "checksum": "5493400e8b7f9a8e2cde874866d4fa7f",
     "grade": false,
     "grade_id": "cell-3a1bca1dbb7d0069",
     "locked": true,
     "schema_version": 3,
     "solution": false,
     "task": false
    }
   },
   "source": [
    "![shakespeare](https://i.imgur.com/81YZuel.jpg)\n",
    "\n",
    "# Generating Shakespeare Using a Character-level Language Model\n",
    "\n",
    "### From Words to Characters\n",
    "In the previous two sections we dealt with word-level language models. But looking again at section 2, there is nothing that constraints us to using _words_ as the basic elemnents in our model. The model we analyzed in section 2 could just as well be character-based - just replace \"word\" with \"character\", and you are good to go. In this notebook we will train a small character-based language model that will help us generate Shakespearean-like (emphasis on the _like_...) texts."
   ]
  },
  {
   "cell_type": "markdown",
   "metadata": {
    "deletable": false,
    "editable": false,
    "nbgrader": {
     "cell_type": "markdown",
     "checksum": "9af7a343d0e3524c3fd846d987d766a8",
     "grade": false,
     "grade_id": "cell-7301754e4d655d01",
     "locked": true,
     "schema_version": 3,
     "solution": false,
     "task": false
    }
   },
   "source": [
    "### Question 3.a\n",
    "Can you think of an advantage a character-based language model could have over a word-based language model? _(You might find question 2.c useful)_. And what about the other way around: can you think of an advantage a word-based language model could have over a character-based language model?"
   ]
  },
  {
   "cell_type": "markdown",
   "metadata": {
    "deletable": false,
    "nbgrader": {
     "cell_type": "markdown",
     "checksum": "eb742db028fffc9c69d14202fc1e24bd",
     "grade": true,
     "grade_id": "cell-e19646c939692ee9",
     "locked": false,
     "points": 4,
     "schema_version": 3,
     "solution": true,
     "task": false
    }
   },
   "source": [
    "**WRITE YOUR ANSWER IN THIS CELL**\n"
   ]
  },
  {
   "cell_type": "markdown",
   "metadata": {
    "deletable": false,
    "editable": false,
    "nbgrader": {
     "cell_type": "markdown",
     "checksum": "d46a8dfd340b8f68e51a041307f7d7d3",
     "grade": false,
     "grade_id": "cell-ebc0d8ae3061c0fc",
     "locked": true,
     "schema_version": 3,
     "solution": false,
     "task": false
    }
   },
   "source": [
    "### Using PyTorch\n",
    "\n",
    "We'll build our language model using PyTorch. PyTorch is a [very popular](https://thegradient.pub/state-of-ml-frameworks-2019-pytorch-dominates-research-tensorflow-dominates-industry/) open-source machine learning (and deep learning) framework developed by Facebook. In short:\n",
    "\n",
    "> Pytorch is a Python-based scientific computing package targeted at two sets of audiences:\n",
    "* A replacement for NumPy to use the power of GPUs\n",
    "* A deep learning research platform that provides maximum flexibility and speed\n",
    "\n",
    "To get familiar with PyTorch, check out this [quick tutorial](https://pytorch.org/tutorials/beginner/blitz/tensor_tutorial.html). In addition, another imporant difference from numpy is that PyTorch can automatically calculate the gradients needed for backpropagation, as explained [here](https://pytorch.org/tutorials/beginner/blitz/autograd_tutorial.html)."
   ]
  },
  {
   "cell_type": "markdown",
   "metadata": {
    "deletable": false,
    "editable": false,
    "nbgrader": {
     "cell_type": "markdown",
     "checksum": "02af8a21a2e8fae58d84f915de5b016d",
     "grade": false,
     "grade_id": "cell-aa2773db1bef7014",
     "locked": true,
     "schema_version": 3,
     "solution": false,
     "task": false
    }
   },
   "source": [
    "### Preparing the Data\n",
    "\n",
    "Our dataset is a plain text file. For simplicity, we turn any potential unicode characters into plain ASCII by using the `unidecode` package."
   ]
  },
  {
   "cell_type": "code",
   "execution_count": 82,
   "metadata": {
    "deletable": false,
    "editable": false,
    "nbgrader": {
     "cell_type": "code",
     "checksum": "ef0359e8c08b2057771c115150011e7e",
     "grade": false,
     "grade_id": "cell-cce75419c097f3fd",
     "locked": true,
     "schema_version": 3,
     "solution": false,
     "task": false
    },
    "pycharm": {
     "is_executing": false
    }
   },
   "outputs": [
    {
     "name": "stdout",
     "output_type": "stream",
     "text": [
      "Total number of characters in our dataset: 1115394\n"
     ]
    }
   ],
   "source": [
    "import string\n",
    "import random\n",
    "import re\n",
    "\n",
    "import unidecode\n",
    "\n",
    "all_characters = string.printable\n",
    "n_characters = len(all_characters)  # our vocabulary size (|V| from the handout)\n",
    "\n",
    "dataset_as_string = unidecode.unidecode(open('data/shakespeare.txt').read())\n",
    "n_chars_in_dataset = len(dataset_as_string)\n",
    "print(f'Total number of characters in our dataset: {n_chars_in_dataset}')"
   ]
  },
  {
   "cell_type": "markdown",
   "metadata": {
    "deletable": false,
    "editable": false,
    "nbgrader": {
     "cell_type": "markdown",
     "checksum": "06dd2ac91a6296206475c7e330e53e3d",
     "grade": false,
     "grade_id": "cell-d795f907dd7922f3",
     "locked": true,
     "schema_version": 3,
     "solution": false,
     "task": false
    }
   },
   "source": [
    "To make inputs out of this big string of text, we will split it into chunks."
   ]
  },
  {
   "cell_type": "code",
   "execution_count": 83,
   "metadata": {
    "deletable": false,
    "editable": false,
    "nbgrader": {
     "cell_type": "code",
     "checksum": "61947ad22fb7f16eba246d47ab8cae22",
     "grade": false,
     "grade_id": "cell-379f229536dae19b",
     "locked": true,
     "schema_version": 3,
     "solution": false,
     "task": false
    },
    "pycharm": {
     "is_executing": false
    }
   },
   "outputs": [
    {
     "name": "stdout",
     "output_type": "stream",
     "text": [
      "I were hanged,\n",
      "but I thought there was more in him than I could think.\n",
      "\n",
      "Second Servingman:\n",
      "So did I, I'll be sworn: he is simply the rarest\n",
      "man i' the world.\n",
      "\n",
      "First Servingman:\n",
      "I think he is: but a greater soldier than he you wot on.\n",
      "\n",
      "Second Servingman:\n",
      "Who, my master?\n",
      "\n",
      "First Servingman:\n",
      "Nay, it's no matter for that.\n",
      "\n",
      "Second Servingman:\n",
      "Worth six on him.\n",
      "\n",
      "First Servingman:\n",
      "Nay, not so neither: but \n"
     ]
    }
   ],
   "source": [
    "chunk_len = 400\n",
    "\n",
    "def random_chunk():\n",
    "    start_index = random.randint(0, n_chars_in_dataset - chunk_len)\n",
    "    end_index = start_index + chunk_len + 1\n",
    "    return dataset_as_string[start_index:end_index]\n",
    "\n",
    "print(random_chunk())"
   ]
  },
  {
   "cell_type": "markdown",
   "metadata": {
    "deletable": false,
    "editable": false,
    "nbgrader": {
     "cell_type": "markdown",
     "checksum": "ba5d4900ff254fa335fe935962878c8d",
     "grade": false,
     "grade_id": "cell-fcbb2d73f4e442fb",
     "locked": true,
     "schema_version": 3,
     "solution": false,
     "task": false
    }
   },
   "source": [
    "### Building Our Model\n",
    "\n",
    "Our model consists of three main components:\n",
    "\n",
    "1. [**Embedding**](https://pytorch.org/docs/stable/nn.html#embedding). A mapping between characters and their learned representations (\"word vectors\") \\[correspoding to ${\\boldsymbol L}$ in terms of the handout\\]\n",
    "2. [**GRU**](https://pytorch.org/docs/stable/nn.html#gru). \\[correspoding to the computation of ${\\boldsymbol h}^{(t)}$ in terms of the handout\\]\n",
    "3. **Output Layer**. A feed-forward neural network that transforms a hidden state at a timestep into a probability distribution of the next character. \\[correspoding to the computation of $\\hat{\\boldsymbol y}^{(t)}$ in terms of the handout\\] "
   ]
  },
  {
   "cell_type": "markdown",
   "metadata": {},
   "source": [
    "### Question 3.b\n",
    "Complete the implementation of the `forward` method of our model."
   ]
  },
  {
   "cell_type": "code",
   "execution_count": 99,
   "metadata": {
    "deletable": false,
    "nbgrader": {
     "cell_type": "code",
     "checksum": "a9ad1239fcd5aec23f439249397895ec",
     "grade": false,
     "grade_id": "cell-1640492438386e87",
     "locked": false,
     "schema_version": 3,
     "solution": true,
     "task": false
    },
    "pycharm": {
     "is_executing": false
    }
   },
   "outputs": [],
   "source": [
    "import torch\n",
    "import torch.nn as nn\n",
    "from torch.autograd import Variable\n",
    "\n",
    "class OurModel(nn.Module):\n",
    "    def __init__(self, input_size, hidden_size, output_size, num_layers=1):\n",
    "        super(OurModel, self).__init__()\n",
    "        self.input_size = input_size\n",
    "        self.hidden_size = hidden_size\n",
    "        self.output_size = output_size\n",
    "        self.num_layers = num_layers\n",
    "        \n",
    "        self.embedding = nn.Embedding(input_size, hidden_size)  # In the terms of the handout, here d = D_h\n",
    "        self.gru = nn.GRU(hidden_size, hidden_size, num_layers)\n",
    "        self.output_layer = nn.Linear(hidden_size, output_size)\n",
    "    \n",
    "    def forward(self, input_, hidden):\n",
    "        # General instructions:\n",
    "        # Pass the embedded input through the GRU and use the output layer to get the next character distribution.\n",
    "        # return that distribution and the next hidden state.\n",
    "        # You may need to play around with the dimensions a bit until you get it right. Dimension-induced frustration is good for you!\n",
    "        # -------------------------\n",
    "        # YOUR CODE HERE\n",
    "        if len(input_.shape) == 0:\n",
    "            input_ = input_.unsqueeze(0)\n",
    "        emb = self.embedding(input_)\n",
    "        emb = emb.unsqueeze(0)\n",
    "        out, hidden = self.gru(emb, hidden)\n",
    "        output = self.output_layer(out)\n",
    "        output = output.squeeze(0)\n",
    "        # -------------------------\n",
    "        return output, hidden\n",
    "\n",
    "    def init_hidden(self):\n",
    "        return Variable(torch.zeros(self.num_layers, 1, self.hidden_size))"
   ]
  },
  {
   "cell_type": "markdown",
   "metadata": {
    "deletable": false,
    "editable": false,
    "nbgrader": {
     "cell_type": "markdown",
     "checksum": "da793a49917dc4882e7e70f04d07a777",
     "grade": false,
     "grade_id": "cell-b9299fddeb082b4e",
     "locked": true,
     "schema_version": 3,
     "solution": false,
     "task": false
    }
   },
   "source": [
    "### Creating the Training Examples"
   ]
  },
  {
   "cell_type": "markdown",
   "metadata": {
    "deletable": false,
    "editable": false,
    "nbgrader": {
     "cell_type": "markdown",
     "checksum": "f6eaeb80c370b32f26eda2ac1be57444",
     "grade": false,
     "grade_id": "cell-83bf9e1b0374206c",
     "locked": true,
     "schema_version": 3,
     "solution": false,
     "task": false
    }
   },
   "source": [
    "Each chunk will be turned into a tensor by looping through the characters of the string and looking up the index of each character in `all_characters`."
   ]
  },
  {
   "cell_type": "code",
   "execution_count": 85,
   "metadata": {
    "deletable": false,
    "editable": false,
    "nbgrader": {
     "cell_type": "code",
     "checksum": "cc87bca342db2fde1b3957f48bcfe857",
     "grade": false,
     "grade_id": "cell-5360afdd0b03b1f4",
     "locked": true,
     "schema_version": 3,
     "solution": false,
     "task": false
    },
    "pycharm": {
     "is_executing": false
    }
   },
   "outputs": [
    {
     "name": "stdout",
     "output_type": "stream",
     "text": [
      "tensor([10, 11, 12, 39, 40, 41])\n"
     ]
    }
   ],
   "source": [
    "# Turn a string into list of longs\n",
    "def chars_to_tensor(string):\n",
    "    tensor = torch.zeros(len(string)).long()\n",
    "    for c in range(len(string)):\n",
    "        tensor[c] = all_characters.index(string[c])\n",
    "    return Variable(tensor)\n",
    "\n",
    "print(chars_to_tensor('abcDEF'))"
   ]
  },
  {
   "cell_type": "markdown",
   "metadata": {
    "deletable": false,
    "editable": false,
    "nbgrader": {
     "cell_type": "markdown",
     "checksum": "32c02aa64cee9046c2917487ac982de0",
     "grade": false,
     "grade_id": "cell-6e7b3d9e8c9396bb",
     "locked": true,
     "schema_version": 3,
     "solution": false,
     "task": false
    }
   },
   "source": [
    "Each training example for our model will be created from a chunk randomly extracted from our shakespeare dataset. For example, if we set our chunk size to be 28, then a randomly extracted chunk could be $\\texttt{As deep as that, though true}$. Each training example is of a form $(\\textbf{x},\\textbf{y})$ where $\\textbf{x}$ is all the charecters of the chunk *except the last* and $\\textbf{y}$ is all the charecters of the chunk *except the first*. For example, given the chunk above, $\\textbf{x}=\\texttt{As deep as that, though tru}$ and $\\textbf{y}=\\texttt{s deep as that, though true}$. At timestep i our input is $\\textbf{x}^{(i)}$ and the gold label our model will try to predict is $\\textbf{y}^{(i)}$."
   ]
  },
  {
   "cell_type": "code",
   "execution_count": 86,
   "metadata": {
    "deletable": false,
    "editable": false,
    "nbgrader": {
     "cell_type": "code",
     "checksum": "f159d648c0ab9ffbdc096aeac6905a57",
     "grade": false,
     "grade_id": "cell-d3539c5f1d96a188",
     "locked": true,
     "schema_version": 3,
     "solution": false,
     "task": false
    },
    "pycharm": {
     "is_executing": false
    }
   },
   "outputs": [],
   "source": [
    "def random_training_example():    \n",
    "    chunk = random_chunk()\n",
    "    inp = chars_to_tensor(chunk[:-1])\n",
    "    target = chars_to_tensor(chunk[1:])\n",
    "    return inp, target"
   ]
  },
  {
   "cell_type": "markdown",
   "metadata": {
    "deletable": false,
    "editable": false,
    "nbgrader": {
     "cell_type": "markdown",
     "checksum": "18a6bf800d9bc590739b15ba01dda408",
     "grade": false,
     "grade_id": "cell-16d13f3b273395ac",
     "locked": true,
     "schema_version": 3,
     "solution": false,
     "task": false
    }
   },
   "source": [
    "### Evaluating\n",
    "\n",
    "To evaluate the network we will feed one character at a time, use the outputs of the network as a probability distribution for the next character, and repeat. To start generation we pass a priming string to start building up the hidden state, from which we then generate one character at a time."
   ]
  },
  {
   "cell_type": "code",
   "execution_count": 87,
   "metadata": {
    "deletable": false,
    "editable": false,
    "nbgrader": {
     "cell_type": "code",
     "checksum": "a47c721a818979b886f119401206e756",
     "grade": false,
     "grade_id": "cell-44ab27a8fee696ad",
     "locked": true,
     "schema_version": 3,
     "solution": false,
     "task": false
    },
    "pycharm": {
     "is_executing": false
    }
   },
   "outputs": [],
   "source": [
    "import torch.nn.functional as F\n",
    "\n",
    "def evaluate(prime_str='A', predict_len=100, temperature=0.8):\n",
    "    hidden = model.init_hidden()\n",
    "    prime_input = chars_to_tensor(prime_str)\n",
    "    predicted = prime_str\n",
    "\n",
    "    # Use priming string to \"build up\" hidden state\n",
    "    for p in range(len(prime_str) - 1):\n",
    "        _, hidden = model(prime_input[p], hidden)\n",
    "    inp = prime_input[-1]\n",
    "    \n",
    "    for p in range(predict_len):\n",
    "        output, hidden = model(inp, hidden)\n",
    "        \n",
    "        # Sample from the network as a multinomial distribution\n",
    "        output_dist =  F.softmax(output / temperature, dim=-1)\n",
    "        top_i = torch.multinomial(output_dist, 1)[0]\n",
    "        \n",
    "        # Add predicted character to string and use as next input\n",
    "        predicted_char = all_characters[top_i]\n",
    "        predicted += predicted_char\n",
    "        inp = chars_to_tensor(predicted_char)\n",
    "\n",
    "    return predicted"
   ]
  },
  {
   "cell_type": "markdown",
   "metadata": {
    "deletable": false,
    "editable": false,
    "nbgrader": {
     "cell_type": "markdown",
     "checksum": "3fffa10554299eaae14cc007fea3935a",
     "grade": false,
     "grade_id": "cell-1d3fd015fe8f64d1",
     "locked": true,
     "schema_version": 3,
     "solution": false,
     "task": false
    }
   },
   "source": [
    "### Training"
   ]
  },
  {
   "cell_type": "markdown",
   "metadata": {
    "deletable": false,
    "editable": false,
    "nbgrader": {
     "cell_type": "markdown",
     "checksum": "8a98218b35f47137eeba1ba1aead0700",
     "grade": false,
     "grade_id": "cell-a209b293a8850a57",
     "locked": true,
     "schema_version": 3,
     "solution": false,
     "task": false
    }
   },
   "source": [
    "The main training function"
   ]
  },
  {
   "cell_type": "code",
   "execution_count": 88,
   "metadata": {
    "deletable": false,
    "editable": false,
    "nbgrader": {
     "cell_type": "code",
     "checksum": "eb3bfcd4d49b2f2672447d8c65b6cb05",
     "grade": false,
     "grade_id": "cell-e246cbd9689e1a6d",
     "locked": true,
     "schema_version": 3,
     "solution": false,
     "task": false
    },
    "pycharm": {
     "is_executing": false
    }
   },
   "outputs": [],
   "source": [
    "def train(inp, target):\n",
    "    hidden = model.init_hidden()\n",
    "    model.zero_grad()\n",
    "    loss = 0\n",
    "\n",
    "    for c in range(chunk_len):\n",
    "        output, hidden = model(inp[c], hidden)\n",
    "        loss += criterion(output, target[c].view(-1))\n",
    "\n",
    "    loss.backward()\n",
    "    optimizer.step()\n",
    "\n",
    "    return loss.item() / chunk_len"
   ]
  },
  {
   "cell_type": "markdown",
   "metadata": {
    "deletable": false,
    "editable": false,
    "nbgrader": {
     "cell_type": "markdown",
     "checksum": "bfb863e279db4b170c35d8d0c7a37a1f",
     "grade": false,
     "grade_id": "cell-05ce9b9275e0d1cc",
     "locked": true,
     "schema_version": 3,
     "solution": false,
     "task": false
    }
   },
   "source": [
    "A helper to print the amount of time passed:"
   ]
  },
  {
   "cell_type": "code",
   "execution_count": 89,
   "metadata": {
    "deletable": false,
    "editable": false,
    "nbgrader": {
     "cell_type": "code",
     "checksum": "16d7b53f211a6a1bef71c1dd2d1271cf",
     "grade": false,
     "grade_id": "cell-cb78afef7022f9a1",
     "locked": true,
     "schema_version": 3,
     "solution": false,
     "task": false
    },
    "pycharm": {
     "is_executing": false
    }
   },
   "outputs": [],
   "source": [
    "import time, math\n",
    "\n",
    "def time_since(since):\n",
    "    s = time.time() - since\n",
    "    m = math.floor(s / 60)\n",
    "    s -= m * 60\n",
    "    return f'{m}m {math.floor(s)}s'"
   ]
  },
  {
   "cell_type": "code",
   "execution_count": 90,
   "metadata": {
    "deletable": false,
    "editable": false,
    "nbgrader": {
     "cell_type": "code",
     "checksum": "2b368f1767ddd0eddca44249fa47ed32",
     "grade": true,
     "grade_id": "cell-98f46bec0b8c87cc",
     "locked": true,
     "points": 10,
     "schema_version": 3,
     "solution": false,
     "task": false
    }
   },
   "outputs": [],
   "source": [
    "# DO NOT DELETE THIS CELL\n"
   ]
  },
  {
   "cell_type": "markdown",
   "metadata": {
    "deletable": false,
    "editable": false,
    "nbgrader": {
     "cell_type": "markdown",
     "checksum": "98abd7dd7805753c2e7b635f1265cb73",
     "grade": false,
     "grade_id": "cell-baf25642209867dc",
     "locked": true,
     "schema_version": 3,
     "solution": false,
     "task": false
    }
   },
   "source": [
    "Define the training parameters, instantiate the model, and start training:"
   ]
  },
  {
   "cell_type": "code",
   "execution_count": 100,
   "metadata": {
    "deletable": false,
    "editable": false,
    "nbgrader": {
     "cell_type": "code",
     "checksum": "b7392249521c153ef4d7713eecb8204a",
     "grade": false,
     "grade_id": "cell-4900f92ae503be69",
     "locked": true,
     "schema_version": 3,
     "solution": false,
     "task": false
    },
    "pycharm": {
     "is_executing": false
    }
   },
   "outputs": [
    {
     "name": "stdout",
     "output_type": "stream",
     "text": [
      "[time elapsed: 0m 31s  ;  iterations: 100 (5.0%)  ;  loss: 2.07]\n",
      "Whoun\n",
      "Fot nod nond foromoks incril aut wist to an\n",
      "The ry sente ond the thas the mon and he hiler this youe,\n",
      "Fast he bem dole to tot, he this thae the or wusest ore seros, houll wist dan thathen I stin w \n",
      "\n",
      "[time elapsed: 1m 5s  ;  iterations: 200 (10.0%)  ;  loss: 2.04]\n",
      "Whef econ Lor on of the foor now the you rdesal the the net,\n",
      "And need thaind thew not men ies that for hadess a have fore.\n",
      "\n",
      "COLUSETRE:\n",
      "Difich this dooford is for winsours thims thous for have hou the ba \n",
      "\n",
      "[time elapsed: 1m 39s  ;  iterations: 300 (15.0%)  ;  loss: 1.885]\n",
      "What beafep thead he dencer's hat the pricion\n",
      "Tighter liest his mone as\n",
      "weth me maque listowid lovledsunas solmave\n",
      "for and was wor,\n",
      "The dop to ham elling betere have This shard.\n",
      "\n",
      "LING EDWWARD IVI:\n",
      "And h \n",
      "\n",
      "[time elapsed: 2m 13s  ;  iterations: 400 (20.0%)  ;  loss: 1.923]\n",
      "WhWizees but sould ture the sess;\n",
      "How, and in bid stit inder and thy herece so dis offithing:\n",
      "De wit. Whem to sew,\n",
      "Bist, I dand the with lourd in to I the dene to you ay.\n",
      "\n",
      "WARD VINCENS:\n",
      "end: her your yo \n",
      "\n",
      "[time elapsed: 2m 47s  ;  iterations: 500 (25.0%)  ;  loss: 2.006]\n",
      "Whick of thy deed:\n",
      "Core fort a thing thy not stave\n",
      "That gerits eneve than is duneed;\n",
      "And not the farmatning dow herees line.\n",
      "\n",
      "Sord:\n",
      "at have struck out or live\n",
      "To have a hand hath dear enderbut bake now  \n",
      "\n",
      "[time elapsed: 3m 22s  ;  iterations: 600 (30.0%)  ;  loss: 1.802]\n",
      "Who:\n",
      "Riple will dait it thee me, wo resuter'd stay, Hoor worror'd wand find\n",
      "Which awours such\n",
      "All well be in fules I were my for he sicher of mefore ount,\n",
      "And her lastillland here the sustorl werefing o \n",
      "\n",
      "[time elapsed: 3m 59s  ;  iterations: 700 (35.0%)  ;  loss: 1.753]\n",
      "Wh'd metsongef to doughtson in thy wanger, call\n",
      "And chall an his knesster ding\n",
      "And buzess, her wha will I\n",
      "Bade I not be baw there to cuneses\n",
      "Waild you whin: counds, noblessed maan, you speews and you th \n",
      "\n",
      "[time elapsed: 4m 42s  ;  iterations: 800 (40.0%)  ;  loss: 1.82]\n",
      "Which I his the love\n",
      "Muke chill wife the will still our by my for thing.\n",
      "\n",
      "BINGBROKE:\n",
      "Beed of you my prom poort! but is ploese.\n",
      "\n",
      "SICINIUS:\n",
      "God my slem of to leak tall.\n",
      "\n",
      "KING RICHARD OF II:\n",
      "ROMeed, you hi \n",
      "\n",
      "[time elapsed: 5m 28s  ;  iterations: 900 (45.0%)  ;  loss: 1.894]\n",
      "What dear the regel,\n",
      "Then to have fortiog.\n",
      "\n",
      "SANGAENTIO:\n",
      "Thou conty both thee, and less,\n",
      "The calt, thim he do for Gose deiveren:\n",
      "The lose deady denius at with deserfors,\n",
      "Which death, you her more and the \n",
      "\n",
      "[time elapsed: 6m 24s  ;  iterations: 1000 (50.0%)  ;  loss: 1.587]\n",
      "What and the sobers, your lede\n",
      "And sant and when lalloungs!\n",
      "You day, I'le all a may the.\n",
      "\n",
      "HARTIO:\n",
      "I'll and the show.\n",
      "\n",
      "First Yord:\n",
      "The pappourserther so will suchought.\n",
      "\n",
      "LADYO:\n",
      "The sif grorth thou doin t \n",
      "\n",
      "[time elapsed: 7m 2s  ;  iterations: 1100 (55.00000000000001%)  ;  loss: 1.802]\n",
      "What dow now thee for ore thembir hize\n",
      "Thou revount, contument, I' me this for them.\n",
      "\n",
      "LADY CAPULLA:\n",
      "A vorisenit that then I will her seef trouth.\n",
      "\n",
      "PERCUTIO:\n",
      "No to my exparturmule, I will coom\n",
      "To strue,  \n",
      "\n",
      "[time elapsed: 7m 35s  ;  iterations: 1200 (60.0%)  ;  loss: 1.81]\n",
      "Whinger.\n",
      "\n",
      "NERTo Lard,\n",
      "War yier, rite, their ather before me onder with life,\n",
      "Fries the poour recond unfull and theard fould be the cuther or that him!\n",
      "\n",
      "KING RICHARD II:\n",
      "And you she thou was the be it in \n",
      "\n",
      "[time elapsed: 8m 11s  ;  iterations: 1300 (65.0%)  ;  loss: 1.577]\n",
      "Why.\n",
      "\n",
      "Preave:\n",
      "Bly regains is houss al reigny night and be bothous what\n",
      "should with to time sow would lest tumpple of dince:\n",
      "Cain him let brother surce is thy remif?\n",
      "And will me contends in a pleass with \n",
      "\n",
      "[time elapsed: 8m 49s  ;  iterations: 1400 (70.0%)  ;  loss: 1.723]\n",
      "Whatter, freemstard,\n",
      "What in the had the sirle him farent with than know wake and as and,\n",
      "And pitery theo hall hame from this sance the will off\n",
      "But in than with is all somed yought here;\n",
      "Of is fare tho \n",
      "\n",
      "[time elapsed: 9m 28s  ;  iterations: 1500 (75.0%)  ;  loss: 1.591]\n",
      "Whow of no know thee.\n",
      "\n",
      "CORIOLANUS:\n",
      "I him untage of to here's to so\n",
      "port the wisparde pitievel, sir;\n",
      "For the have firres me, dood anary overen\n",
      "But my mine of than rower, father,\n",
      "Not of your say, you prie \n",
      "\n",
      "[time elapsed: 10m 3s  ;  iterations: 1600 (80.0%)  ;  loss: 1.746]\n",
      "What, me life, and but you part soops you, vawis\n",
      "That my man, sound which the should have brow'd haten\n",
      "And my love that who suppilst warward guke;\n",
      "I worth sir, doth on thy good due my solder houne remee \n",
      "\n",
      "[time elapsed: 10m 39s  ;  iterations: 1700 (85.0%)  ;  loss: 1.736]\n",
      "Whan:\n",
      "Do wrock your let we shame sir! father im that will he knows and the war,\n",
      "Ay, whic is spise ever have he comest beeck's the hath weck I bestos;\n",
      "Meath, Bry onter mans\n",
      "Which him fistigrning marting  \n",
      "\n",
      "[time elapsed: 11m 15s  ;  iterations: 1800 (90.0%)  ;  loss: 1.406]\n",
      "Whing bhe prothridius.\n",
      "\n",
      "VELENVER:\n",
      "No! O, we capplation.\n",
      "\n",
      "LADY EONTES:\n",
      "And the pellide all, by a be fair.\n",
      "\n",
      "BURDID:\n",
      "All I crued the grove seak?\n",
      "When me not welpon a colasting--thy kiss\n",
      "Where that you came \n",
      "\n",
      "[time elapsed: 11m 51s  ;  iterations: 1900 (95.0%)  ;  loss: 1.927]\n",
      "Whren thy honour cantage?\n",
      "Shoppe thy king or sing, you ruth o'e,\n",
      "Mattal a trie theing, and,\n",
      "And and\n",
      "veren of forth thou regoronger underent\n",
      "They han have the straces, himsanst partinot of her sain,\n",
      "Thou \n",
      "\n",
      "[time elapsed: 12m 27s  ;  iterations: 2000 (100.0%)  ;  loss: 1.413]\n",
      "Whancio, I having but hand.\n",
      "\n",
      "DUKE VINCENTIO:\n",
      "No, with you soold when the coull to bean this will fiseeny forsighne\n",
      "she a dreague come his had die?\n",
      "\n",
      "HORTH:\n",
      "Where my had bit in the well is of halt,\n",
      "Orect  \n",
      "\n"
     ]
    }
   ],
   "source": [
    "n_iterations = 2000\n",
    "print_every = 100\n",
    "plot_every = 10\n",
    "hidden_size = 100  # (D_h from the handout)\n",
    "num_layers = 1\n",
    "lr = 0.005\n",
    "\n",
    "model = OurModel(n_characters, hidden_size, n_characters, num_layers)\n",
    "optimizer = torch.optim.Adam(model.parameters(), lr=lr)\n",
    "criterion = nn.CrossEntropyLoss()\n",
    "\n",
    "start = time.time()\n",
    "all_losses = []\n",
    "loss_avg = 0\n",
    "\n",
    "for iteration in range(1, n_iterations + 1):\n",
    "    loss = train(*random_training_example())       \n",
    "    loss_avg += loss\n",
    "\n",
    "    if iteration % print_every == 0:\n",
    "        print(f'[time elapsed: {time_since(start)}  ;  iterations: {iteration} ({iteration / n_iterations * 100}%)  ;  loss: {loss:.4}]')\n",
    "        print(evaluate('Wh', 200), '\\n')  # generate text starting with 'Wh'\n",
    "\n",
    "    if iteration % plot_every == 0:\n",
    "        all_losses.append(loss_avg / plot_every)\n",
    "        loss_avg = 0"
   ]
  },
  {
   "cell_type": "markdown",
   "metadata": {
    "deletable": false,
    "editable": false,
    "nbgrader": {
     "cell_type": "markdown",
     "checksum": "8584d3be75d90a5197e7133411e0021d",
     "grade": false,
     "grade_id": "cell-ff9d72dafefa0a23",
     "locked": true,
     "schema_version": 3,
     "solution": false,
     "task": false
    }
   },
   "source": [
    "### Training Loss\n",
    "\n",
    "Plotting the the losses that were computed during training can provide a further indication that the network was indeed learning."
   ]
  },
  {
   "cell_type": "code",
   "execution_count": 101,
   "metadata": {
    "deletable": false,
    "editable": false,
    "nbgrader": {
     "cell_type": "code",
     "checksum": "77791204e14b67d3ad68d70695c479a6",
     "grade": false,
     "grade_id": "cell-f91bb597844b8f7d",
     "locked": true,
     "schema_version": 3,
     "solution": false,
     "task": false
    },
    "pycharm": {
     "is_executing": false
    }
   },
   "outputs": [
    {
     "data": {
      "text/plain": [
       "[<matplotlib.lines.Line2D at 0x10e8b02d0>]"
      ]
     },
     "execution_count": 101,
     "metadata": {},
     "output_type": "execute_result"
    },
    {
     "data": {
      "image/png": "[encoded data removed]",
      "text/plain": [
       "<Figure size 432x288 with 1 Axes>"
      ]
     },
     "metadata": {
      "needs_background": "light"
     },
     "output_type": "display_data"
    }
   ],
   "source": [
    "import matplotlib.pyplot as plt\n",
    "%matplotlib inline\n",
    "\n",
    "plt.grid(True)\n",
    "plt.xlabel('# of iterations (divided by plot_every)')\n",
    "plt.ylabel('average loss')\n",
    "plt.plot(all_losses)"
   ]
  },
  {
   "cell_type": "markdown",
   "metadata": {
    "deletable": false,
    "editable": false,
    "nbgrader": {
     "cell_type": "markdown",
     "checksum": "a376c5ed8b8f2dff9ea4731669bc8a49",
     "grade": false,
     "grade_id": "cell-dac1f386e2b526f5",
     "locked": true,
     "schema_version": 3,
     "solution": false,
     "task": false
    }
   },
   "source": [
    "### Evaluating at Different Temperatures\n",
    "Every time we use the `evaluate` function to generate the distribution of the next character, we don't just use softmax as usual, but we also divide by a `temperature`.  \n",
    "Let's examine the effect of changing the temperature when generating text using our trained model:"
   ]
  },
  {
   "cell_type": "code",
   "execution_count": 102,
   "metadata": {},
   "outputs": [
    {
     "name": "stdout",
     "output_type": "stream",
     "text": [
      "There the with the with the shall the with the with the with the with the shall the with the shall the with the so the with the do the with the with the so the shall the with the with the will down the will the with the shall the with the will the will the with the shall be the will the with the see the with the will the with the with the shall the with the will doth the with the down the with the s\n"
     ]
    }
   ],
   "source": [
    "print(evaluate('Th', 400, temperature=0.1))"
   ]
  },
  {
   "cell_type": "code",
   "execution_count": 103,
   "metadata": {},
   "outputs": [
    {
     "name": "stdout",
     "output_type": "stream",
     "text": [
      "Thou with his the rest so I will shall sounding you doth done our the waing the shall prosent and the come the one the serve\n",
      "To with shall hast shall be the shall shall the will die hath the one a hange the sently\n",
      "Than see a so shall see the the so the there a word\n",
      "And shall the done the priest thus sence, so pition he the the lord.\n",
      "\n",
      "PRINCET:\n",
      "I do be his so this in could the rease of so die\n",
      "And with\n"
     ]
    }
   ],
   "source": [
    "print(evaluate('Th', 400, temperature=0.5))"
   ]
  },
  {
   "cell_type": "code",
   "execution_count": 104,
   "metadata": {},
   "outputs": [
    {
     "name": "stdout",
     "output_type": "stream",
     "text": [
      "Thoold:\n",
      "Dout will things all a and the fain blood.\n",
      "\n",
      "PETRUCHIO:\n",
      "Who I have by it and wifes their had conters.\n",
      "\n",
      "ISTAR:\n",
      "From must know good hate so die or so,\n",
      "This I'll brother, in king his for thing the know offorl.\n",
      "\n",
      "PROTER:\n",
      "Come,\n",
      "As boat, in master!\n",
      "\n",
      "PROSPERO:\n",
      "Where? be a have the wish had by him:\n",
      "Whis for the go hered thou do pay, pened that and he not sever parden,\n",
      "Fid I love and he revend the not \n"
     ]
    }
   ],
   "source": [
    "print(evaluate('Th', 400, temperature=0.8))  # the default value"
   ]
  },
  {
   "cell_type": "code",
   "execution_count": 105,
   "metadata": {},
   "outputs": [
    {
     "name": "stdout",
     "output_type": "stream",
     "text": [
      "The state; and than raige the pearige;\n",
      "Ene thanks; wo garleces he would noth reconfed\n",
      "mepie the peharre of to not a well but sir? That is I it's gend\n",
      "Urou, we bid of a supkn, wauk, fier thy rectiou.\n",
      "\n",
      "Procot, he love.\n",
      "\n",
      "PROSHA:\n",
      "Ay it whessellied I hese is the beither's I who's\n",
      "ned of a not well you preny thes clow.\n",
      "\n",
      "PROS ERCINCUTIO:\n",
      "And shall within wan: with molain.\n",
      "\n",
      "First Yore or hath jow shac that \n"
     ]
    }
   ],
   "source": [
    "print(evaluate('Th', 400, temperature=1))"
   ]
  },
  {
   "cell_type": "code",
   "execution_count": 106,
   "metadata": {},
   "outputs": [
    {
     "name": "stdout",
     "output_type": "stream",
     "text": [
      "Thishady yold? lome\n",
      "whereidy the allasty sept can! VI\n",
      "Lomen Duke billl chatiuly noll maviol mean Enhl.\n",
      "\n",
      "BRUTUVO:\n",
      "MP, fould lIn we'd neve him, but Ifame be ime thee:\n",
      "Ofrew. Wherumicion, knweals dids thicious to hul remenmangand\n",
      "tatted,-bork dithet; if alate! 'tnot Earl:\n",
      "And in pridand tyrele yago! Jothing!\n",
      "Righil itt werem, we Ou raid drumfauty. O up\u000b",
      "odvell.\n",
      "\n",
      "Hy:\n",
      "Soibt, Lellenselesmerx'd.\n",
      "\n",
      "PROSTONPE:\n"
     ]
    }
   ],
   "source": [
    "print(evaluate('Th', 400, temperature=1.5))"
   ]
  },
  {
   "cell_type": "markdown",
   "metadata": {
    "deletable": false,
    "editable": false,
    "nbgrader": {
     "cell_type": "markdown",
     "checksum": "33ad994fe23b1e288fc8ef61422435cd",
     "grade": false,
     "grade_id": "cell-08d4f5f563b097a0",
     "locked": true,
     "schema_version": 3,
     "solution": false,
     "task": false
    }
   },
   "source": [
    "### Question 3.c\n",
    "How does the value of `temperature` affect the properties of the generated text?\n",
    "Specifically address the process of sampling a character from the next character distribution, and the effect `temperature` has on it."
   ]
  },
  {
   "cell_type": "markdown",
   "metadata": {
    "deletable": false,
    "nbgrader": {
     "cell_type": "markdown",
     "checksum": "73f841dadc6afd8d63765a083c3f8914",
     "grade": true,
     "grade_id": "cell-bfdb7d9e747067db",
     "locked": false,
     "points": 6,
     "schema_version": 3,
     "solution": true,
     "task": false
    }
   },
   "source": [
    "**WRITE YOUR ANSWER IN THIS CELL**\n",
    "As we can see, as the temperature going far from the default value (0.8) the sentences become less logical and reasonable."
   ]
  }
 ],
 "metadata": {
  "anaconda-cloud": {},
  "kernelspec": {
   "display_name": "Python [conda env:nlp-hw2-q3]",
   "language": "python",
   "name": "conda-env-nlp-hw2-q3-py"
  },
  "language_info": {
   "codemirror_mode": {
    "name": "ipython",
    "version": 3
   },
   "file_extension": ".py",
   "mimetype": "text/x-python",
   "name": "python",
   "nbconvert_exporter": "python",
   "pygments_lexer": "ipython3",
   "version": "3.7.5"
  },
  "pycharm": {
   "stem_cell": {
    "cell_type": "raw",
    "metadata": {
     "collapsed": false
    },
    "source": []
   }
  }
 },
 "nbformat": 4,
 "nbformat_minor": 1
}
